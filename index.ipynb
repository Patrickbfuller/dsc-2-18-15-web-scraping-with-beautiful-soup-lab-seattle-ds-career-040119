{
 "cells": [
  {
   "cell_type": "markdown",
   "metadata": {},
   "source": [
    "# Web Scraping with Beautiful Soup - Lab"
   ]
  },
  {
   "cell_type": "markdown",
   "metadata": {},
   "source": [
    "## Introduction\n",
    "\n",
    "Now that you've read and seen some docmentation regarding the use of Beautiful Soup, its time to practice and put that to work! In this lab you'll formalize some of our example code into functions and scrape the lyrics from an artist of your choice."
   ]
  },
  {
   "cell_type": "markdown",
   "metadata": {},
   "source": [
    "## Objectives\n",
    "You will be able to:\n",
    "* Scrape Static webpages\n",
    "* Select specific elements from the DOM"
   ]
  },
  {
   "cell_type": "markdown",
   "metadata": {},
   "source": [
    "## Link Scraping\n",
    "\n",
    "Write a function to collect the links to each of the song pages from a given artist page."
   ]
  },
  {
   "cell_type": "code",
   "execution_count": 3,
   "metadata": {},
   "outputs": [],
   "source": [
    "import pandas as pd"
   ]
  },
  {
   "cell_type": "code",
   "execution_count": 4,
   "metadata": {},
   "outputs": [
    {
     "data": {
      "text/plain": [
       "[('Smoke Signals',\n",
       "  '../lyrics/phoebebridgers/smokesignals.html',\n",
       "  'album: \"Stranger In The Alps\" (2017)'),\n",
       " ('Motion Sickness',\n",
       "  '../lyrics/phoebebridgers/motionsickness.html',\n",
       "  'album: \"Stranger In The Alps\" (2017)')]"
      ]
     },
     "execution_count": 4,
     "metadata": {},
     "output_type": "execute_result"
    }
   ],
   "source": [
    "#Starter Code\n",
    "\n",
    "from bs4 import BeautifulSoup\n",
    "import requests\n",
    "\n",
    "\n",
    "url = 'https://www.azlyrics.com/p/phoebebridgers.html' #Put the URL of your AZLyrics Artist Page here!\n",
    "\n",
    "html_page = requests.get(url) #Make a get request to retrieve the page\n",
    "soup = BeautifulSoup(html_page.content, 'html.parser') #Pass the page contents to beautiful soup for parsing\n",
    "\n",
    "albums = soup.findAll('div', class_='album')\n",
    "\n",
    "#The example from our lecture/reading\n",
    "data = [] #Create a storage container\n",
    "for album_n in range(len(albums)):\n",
    "    #On the last album, we won't be able to look forward\n",
    "    if album_n == len(albums)-1:\n",
    "        cur_album = albums[album_n]\n",
    "        album_songs = cur_album.findNextSiblings('a')\n",
    "        for song in album_songs:\n",
    "            page = song.get('href')\n",
    "            title = song.text\n",
    "            album = cur_album.text\n",
    "            data.append((title, page, album))\n",
    "    else:\n",
    "        cur_album = albums[album_n]\n",
    "        next_album = albums[album_n+1]\n",
    "        saca = cur_album.findNextSiblings('a') #songs after current album\n",
    "        sbna = next_album.findPreviousSiblings('a') #songs before next album\n",
    "        album_songs = [song for song in saca if song in sbna] #album songs are those listed after the current album but before the next one!\n",
    "        for song in album_songs:\n",
    "            page = song.get('href')\n",
    "            title = song.text\n",
    "            album = cur_album.text\n",
    "            data.append((title, page, album))\n",
    "data[:2]"
   ]
  },
  {
   "cell_type": "code",
   "execution_count": 5,
   "metadata": {},
   "outputs": [],
   "source": [
    "i = 0\n",
    "html_page = requests.get(url[:25]+data[i][1][3:])\n",
    "soup = BeautifulSoup(html_page.content, 'html.parser')"
   ]
  },
  {
   "cell_type": "code",
   "execution_count": 6,
   "metadata": {},
   "outputs": [],
   "source": [
    "lyrics = soup.find('div', class_='col-xs-12 col-lg-8 text-center')"
   ]
  },
  {
   "cell_type": "code",
   "execution_count": 7,
   "metadata": {},
   "outputs": [
    {
     "name": "stdout",
     "output_type": "stream",
     "text": [
      "\n",
      "\n",
      "\n",
      "\n",
      "\n",
      "\n",
      "\n",
      "\n",
      "\n",
      "\n",
      "\n",
      "\n",
      "\n",
      "\n",
      "\n",
      "\"Smoke Signals\" lyrics\n",
      "\n",
      "Phoebe Bridgers Lyrics\n",
      "\n",
      "\n",
      "\n",
      "\n",
      "\"Smoke Signals\"\n",
      "\n",
      "\n",
      "\r\n",
      "I went with you up to\n",
      "The place you grew up in\n",
      "We spent a week in the cold\n",
      "Just long enough to\n",
      "\"Walden\" it with you\n",
      "Any longer, it would have got old\n",
      "Singing \"Ace of Spades\" when Lemmy died\n",
      "But nothing's changed, L.A.'s all right\n",
      "Sleeping in my bed again, and getting in my head\n",
      "And then walk around the reservoir\n",
      "\n",
      "You, you must have been looking for me\n",
      "Sending smoke signals\n",
      "Pelicans circling\n",
      "Burning trash out on the beach\n",
      "\n",
      "One of your eyes is\n",
      "Always half-shut\n",
      "Something happened when you were a kid\n",
      "I didn't know you then\n",
      "And I'll never understand\n",
      "Why it feels like I did\n",
      "\"How Soon Is Now\" in an '80s sedan\n",
      "You slept inside of it because your dad\n",
      "Lived in a campground in the back of a van\n",
      "You said that song will creep you out until you're dead\n",
      "\n",
      "And you must have been looking for me\n",
      "Sending smoke signals\n",
      "Pelicans circling\n",
      "Burning trash out on the beach\n",
      "\n",
      "I want to live at\n",
      "The Holiday Inn\n",
      "Where somebody else makes the bed\n",
      "We'll watch TV while\n",
      "The lights on the street\n",
      "Put all the stars to death\n",
      "It's been on my mind since Bowie died\n",
      "Just checking out to hide from life\n",
      "And all of our problems, I'm gonna solve 'em\n",
      "With you riding shot-gun, speeding, 'cause fuck the cops\n",
      "\n",
      "And you, you must have been looking for me\n",
      "Sending smoke signals\n",
      "Pelicans circling\n",
      "Burning trash out on the beach\n",
      "\n",
      "I buried a hatchet\n",
      "It's coming up lavender\n",
      "The future's unwritten\n",
      "The past is a corridor\n",
      "I'm at the exit looking back through the hall\n",
      "You are anonymous\n",
      "I am a concrete wall\n",
      "\n",
      "\n",
      "\n",
      "\n",
      "\r\n",
      "if  ( /Android|webOS|iPhone|iPod|iPad|BlackBerry|IEMobile|Opera Mini/i.test(navigator.userAgent) ) \r\n",
      "  {\r\n",
      "     document.write('<div style=\"margin-left: auto; margin-right: auto;\">'+\r\n",
      "  '<iframe scrolling=\"no\" style=\"border: 0px none; overflow:hidden;\" src=\"//adv.mxmcdn.net/br/t1.0/m_js/e_0/sn_0/l_16319611/su_0/rs_0/tr_3vUCABVFKwcvgrsTpMfEbmyZNWYh4wqRjjGBT_X4bdCJK3ED4c_j2AZHR5JBGOajtRKx4Nq73grlJfHyGRc0Pi6OIxuUvM5MWIgHQMnmQIRzZcWQtrRua4REtdFKfALIm_q75SnyRFpqNwPA45i-2DkS1zwG2X6UvKxQb7_41ubOrTM-FTTWOmWgNyVs77hQSidBd4vkulyjwuEC__4UgnuiaL7QgBvm8GPjeQ54HHUqd7xyjYXAeZTOn7Ku3r_Z9hBtWREZEuqGtQqtRVdibEXDdie_zSXM5j1PAaWaa-hdZyzUcwQSqiEhMVbwFcqQjWITumhzMYBToafuLw96Ai0YArdXyvYkN6i16LKA7yhG2gi9xVPKDF2ACDMpkamqw6rOahkiPZOEz-XVRBkWVYMCVgxlkhZbD7SHCkP4qBwLlY_BNxggfDPFfGbUWoJ7Zmk254WknTXCew/\" width=\"290px\" height=\"50px\"></iframe>'+\r\n",
      "  '</div>');\r\n",
      "   }\r\n",
      "\n",
      "\n",
      "\n",
      "\n",
      "\n",
      "\n",
      "\n",
      "\n",
      "\n",
      "\n",
      "\n",
      "\n",
      "\n",
      " Submit Corrections\n",
      "\n",
      "\n",
      "\n",
      "\n",
      "\n",
      "\n",
      "Writer(s): PHOEBE BRIDGERS, MARSHALL VORE\n",
      "\n",
      "\n",
      "\n",
      "\n",
      "\n",
      "AZLyrics\n",
      "P\n",
      "Phoebe Bridgers Lyrics\n",
      "\n",
      "\n",
      "\r\n",
      "album: \"Stranger In The Alps\" (2017)\n",
      "Smoke Signals\n",
      "Motion Sickness\n",
      "Funeral\n",
      "Demi Moore\n",
      "Scott Street\n",
      "Killer\n",
      "Georgia\n",
      "Chelsea\n",
      "Would You Rather\n",
      "You Missed My Heart\n",
      "It'll All Work Out[Deluxe Edition Bonus Track]\n",
      "Motion Sickness (Demo)[Deluxe Edition Bonus Track]\n",
      "\n",
      "\n",
      "\n",
      "\n",
      "\n",
      "\n",
      " Search\n",
      "\n",
      "\n",
      "\n",
      "\n",
      "\n",
      "\n",
      "\n"
     ]
    }
   ],
   "source": [
    "print(lyrics.get_text())"
   ]
  },
  {
   "cell_type": "code",
   "execution_count": 8,
   "metadata": {},
   "outputs": [],
   "source": [
    "lyrics= lyrics.get_text()"
   ]
  },
  {
   "cell_type": "code",
   "execution_count": 9,
   "metadata": {},
   "outputs": [
    {
     "data": {
      "text/plain": [
       "'Smoke Signals'"
      ]
     },
     "execution_count": 9,
     "metadata": {},
     "output_type": "execute_result"
    }
   ],
   "source": [
    "data[0][0]"
   ]
  },
  {
   "cell_type": "code",
   "execution_count": 10,
   "metadata": {},
   "outputs": [],
   "source": [
    "end = lyrics.find('if  (')"
   ]
  },
  {
   "cell_type": "code",
   "execution_count": 11,
   "metadata": {},
   "outputs": [],
   "source": [
    "import time\n",
    "import random"
   ]
  },
  {
   "cell_type": "code",
   "execution_count": null,
   "metadata": {},
   "outputs": [],
   "source": [
    "lyrics_dict = {}\n",
    "for i, song in enumerate(data):\n",
    "    if i == 3:\n",
    "        break\n",
    "    url = url[:25]+data[i][1][3:]\n",
    "    html_page = requests.get(url)\n",
    "    time.sleep(15 + random.random()*10)\n",
    "    soup = BeautifulSoup(html_page.content, 'html.parser')\n",
    "    lyrics_html = soup.find('div', class_='col-xs-12 col-lg-8 text-center')\n",
    "    lyrics = lyrics_html.get_text()\n",
    "    end = lyrics.find('if  (')\n",
    "    lyrics_trimmed = lyrics[:end]\n",
    "    title = data[i][0]\n",
    "    lyrics_dict[title] = lyrics_trimmed"
   ]
  },
  {
   "cell_type": "code",
   "execution_count": null,
   "metadata": {},
   "outputs": [],
   "source": [
    "## Text Scraping\n",
    "Write a secondary function that scrapes the lyrics for each song page."
   ]
  },
  {
   "cell_type": "code",
   "execution_count": 22,
   "metadata": {},
   "outputs": [
    {
     "name": "stdout",
     "output_type": "stream",
     "text": [
      "<!DOCTYPE html>\n",
      "<html lang=\"en\">\n",
      " <head>\n",
      "  <meta charset=\"utf-8\"/>\n",
      "  <meta content=\"IE=edge\" http-equiv=\"X-UA-Compatible\"/>\n",
      "  <meta content=\"width=device-width, initial-scale=1\" name=\"viewport\"/>\n",
      "  <meta content=\"Lyrics to &quot;Sheezus&quot; song by Lily Allen: Been here before, so I'm prepared Not\n"
     ]
    }
   ],
   "source": [
    "#Remember to open up the webpage in a browser and control-click/right-click and go to inspect!\n",
    "from bs4 import BeautifulSoup\n",
    "import requests\n",
    "\n",
    "#Example page\n",
    "url = 'https://www.azlyrics.com/lyrics/lilyallen/sheezus.html'\n",
    "\n",
    "html_page = requests.get(url)\n",
    "soup = BeautifulSoup(html_page.content, 'html.parser')\n",
    "print(soup.prettify()[:300])"
   ]
  },
  {
   "cell_type": "code",
   "execution_count": null,
   "metadata": {},
   "outputs": [],
   "source": []
  },
  {
   "cell_type": "markdown",
   "metadata": {},
   "source": [
    "## Synthesizing\n",
    "Create a script using your two functions above to scrape all of the song lyrics for a given artist.\n"
   ]
  },
  {
   "cell_type": "code",
   "execution_count": null,
   "metadata": {},
   "outputs": [],
   "source": [
    "#Use this block for your code!"
   ]
  },
  {
   "cell_type": "markdown",
   "metadata": {},
   "source": [
    "## Visualizing\n",
    "Generate two bar graphs to compare lyrical changes for the artist of your chose. For example, the two bar charts could compare the lyrics for two different songs or two different albums."
   ]
  },
  {
   "cell_type": "code",
   "execution_count": null,
   "metadata": {},
   "outputs": [],
   "source": [
    "#Use this block for your code!"
   ]
  },
  {
   "cell_type": "markdown",
   "metadata": {},
   "source": [
    "## Level - Up\n",
    "\n",
    "Think about how you structured the data from your web scraper. Did you scrape the entire song lyrics verbatim? Did you simply store the words and their frequency counts, or did you do something else entirely? List out a few different options for how you could have stored this data. What are advantages and disadvantages of each? Be specific and think about what sort of analyses each representation would lend itself to."
   ]
  },
  {
   "cell_type": "code",
   "execution_count": null,
   "metadata": {},
   "outputs": [],
   "source": [
    "#Use this block for your code!"
   ]
  },
  {
   "cell_type": "markdown",
   "metadata": {},
   "source": [
    "## Summary"
   ]
  },
  {
   "cell_type": "markdown",
   "metadata": {},
   "source": [
    "Congratulations! You've now practiced your Beautiful Soup knowledge!"
   ]
  }
 ],
 "metadata": {
  "kernelspec": {
   "display_name": "Python 3",
   "language": "python",
   "name": "python3"
  },
  "language_info": {
   "codemirror_mode": {
    "name": "ipython",
    "version": 3
   },
   "file_extension": ".py",
   "mimetype": "text/x-python",
   "name": "python",
   "nbconvert_exporter": "python",
   "pygments_lexer": "ipython3",
   "version": "3.6.6"
  }
 },
 "nbformat": 4,
 "nbformat_minor": 2
}
